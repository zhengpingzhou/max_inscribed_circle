{
 "cells": [
  {
   "cell_type": "code",
   "execution_count": 124,
   "metadata": {},
   "outputs": [],
   "source": [
    "\"\"\"\n",
    "Algorithm for finding the maximum inscribed circle inside an arbitrary 2D binary mask\n",
    "https://blog.mapbox.com/a-new-algorithm-for-finding-a-visual-center-of-a-polygon-7c77e6492fbc\n",
    "\n",
    "Input:\n",
    "    mask -- binary numpy mask (1-inside; 0-outside)\n",
    "Output:\n",
    "    c, r -- center, radius\n",
    "\n",
    "0. kdtree = get all boundary points\n",
    "1. generate initial cells\n",
    "2. \n",
    "max_dist = -INF\n",
    "pq = PriorityQueue()\n",
    "while (!pq.empty()) {\n",
    "    cell = pq.pop()\n",
    "    dist = kdtree.dist(cell.center())\n",
    "    if (map[cell.center()] == 0) dist = -dist\n",
    "\n",
    "    potential_dist = cell.radius() + dist\n",
    "    if (potential_dist > max_dist) {\n",
    "        max_dist = potential_dist\n",
    "        c1, c2, c3, c4 = cell.subdivide()\n",
    "        if (c1.radius() > EPS) {\n",
    "            pq.push(c1); pq.push(c2); pq.push(c3); pq.push(c4)\n",
    "        }\n",
    "    }\n",
    "}\n",
    "\"\"\"\n",
    "from queue import Queue\n",
    "\n",
    "import cv2\n",
    "import numpy as np\n",
    "from scipy.spatial import KDTree\n",
    "\n",
    "import matplotlib\n",
    "import matplotlib.pyplot as plt\n",
    "matplotlib.rcParams.update({'text.color': 'grey'})\n",
    "matplotlib.rcParams.update({'font.size': 6})\n",
    "\n",
    "from utils import *\n",
    "\n",
    "class Cell:\n",
    "    def __init__(self, x1, y1, x2, y2):\n",
    "        self.x1 = x1; self.x2 = x2; self.y1 = y1; self.y2 = y2\n",
    "        self.center = ((y1 + y2) / 2.0, (x1 + x2) / 2.0)\n",
    "        self.radius = np.sqrt(2.0) * (x2 - x1) / 2.0\n",
    "\n",
    "    def subdivide(self):\n",
    "        x1, y1, x2, y2 = self.x1, self.y1, self.x2, self.y2\n",
    "        size = (self.x2 - self.x1) / 2.0\n",
    "        c1 = Cell(x1, y1, x1 + size, y1 + size)\n",
    "        c2 = Cell(x1 + size, y1, x2, y1 + size)\n",
    "        c3 = Cell(x1, y1 + size, x1 + size, y2)\n",
    "        c4 = Cell(x1 + size, y1 + size, x2, y2)\n",
    "        return c1, c2, c3, c4\n",
    "    \n",
    "\n",
    "def initCells(shape):\n",
    "    h, w = shape\n",
    "    size = min(h, w) / 4.0\n",
    "    nw = int(w / size)\n",
    "    nh = int(h / size)\n",
    "    dw = (w - nw * size) / 2.0\n",
    "    dh = (h - nh * size) / 2.0\n",
    "    cells = []\n",
    "    for x1 in np.arange(dw, w - dw, size):\n",
    "        for y1 in np.arange(dh, h - dh, size):\n",
    "            x2 = x1 + size\n",
    "            y2 = y1 + size\n",
    "            if x2 > w or y2 > h: continue\n",
    "            cells.append(Cell(x1, y1, x2, y2))\n",
    "    return cells\n",
    "\n",
    "\n",
    "def getBoundaryPoints(mask):\n",
    "    \"\"\"\n",
    "    ret: [(y1, x1), (y2, x2), ...]\n",
    "    \"\"\"\n",
    "    _, contours, _ = cv2.findContours(mask, cv2.RETR_TREE, cv2.CHAIN_APPROX_NONE)\n",
    "    ret = []\n",
    "    for c in contours: \n",
    "        for p in c: ret.append(p[0][::-1])\n",
    "    return ret\n",
    "\n",
    "\n",
    "def maxInscribedCircle(mask, EPS=1e-4, return_cells=False):\n",
    "    cells = initCells(mask.shape)\n",
    "    boundpts = getBoundaryPoints(mask)\n",
    "    kdtree = KDTree(boundpts)\n",
    "\n",
    "    max_dist = 0\n",
    "    max_center = None\n",
    "\n",
    "    q = Queue()\n",
    "    for cell in cells: q.put(cell)\n",
    "    all_cells = []\n",
    "\n",
    "    while not q.empty():\n",
    "        cell = q.get()\n",
    "        [dist], _ = kdtree.query([cell.center])\n",
    "        y, x = cell.center\n",
    "        if mask[int(y), int(x)] == 0: dist = -dist\n",
    "\n",
    "        potential_dist = cell.radius + dist\n",
    "        if potential_dist + EPS < max_dist: continue\n",
    "        \n",
    "        if dist > max_dist: \n",
    "            max_dist, max_center = dist, cell.center\n",
    "\n",
    "        for c in cell.subdivide():\n",
    "            if c.radius > EPS: q.put(c)\n",
    "                \n",
    "        if return_cells: all_cells.append(cell)\n",
    "    \n",
    "    ret = (max_center, max_dist)\n",
    "    if return_cells: ret = (ret, all_cells)\n",
    "    return ret"
   ]
  },
  {
   "cell_type": "code",
   "execution_count": 125,
   "metadata": {},
   "outputs": [],
   "source": [
    "def drawBg(img, dpi=100):\n",
    "    fig = plt.figure(dpi=dpi)\n",
    "    ax = plt.Axes(fig, [0., 0., 1., 1.])\n",
    "    ax.set_axis_off()\n",
    "    fig.add_axes(ax)\n",
    "    if img is not None: \n",
    "        if len(img.shape) == 2: \n",
    "            img = np.repeat(img[:, :, np.newaxis], 3, axis=-1)\n",
    "        plt.imshow(img[:, :, ::-1])\n",
    "        \n",
    "def showEq():\n",
    "    plt.gca().set_aspect('equal', adjustable='box')\n",
    "    plt.show()\n",
    "\n",
    "def drawCells(cells, img=None, dpi=100):\n",
    "    drawBg(img, dpi)\n",
    "    for c in cells:\n",
    "        plt.plot([c.x1, c.x1], [c.y1, c.y2])\n",
    "        plt.plot([c.x1, c.x2], [c.y2, c.y2])\n",
    "        plt.plot([c.x2, c.x2], [c.y1, c.y2])\n",
    "        plt.plot([c.x1, c.x2], [c.y1, c.y1])\n",
    "    showEq()\n",
    "    \n",
    "def drawBoundaryPoints(boundpts, img=None, dpi=100):\n",
    "    img = np.repeat(img[:, :, np.newaxis], 3, axis=-1)\n",
    "    for y, x in boundpts: cv2.circle(img, (x, y), 3, (0, 0, 255))\n",
    "    drawBg(img, dpi)\n",
    "    showEq()\n",
    "    \n",
    "def drawCircle(circle, img=None, cells=[], dpi=100):\n",
    "    (y, x), r = circle\n",
    "    img = np.repeat(img[:, :, np.newaxis], 3, axis=-1)\n",
    "    cv2.circle(img, (int(x), int(y)), int(r), (0, 0, 255), -1)\n",
    "    drawCells(cells, img, dpi)"
   ]
  },
  {
   "cell_type": "code",
   "execution_count": 126,
   "metadata": {},
   "outputs": [
    {
     "data": {
      "image/png": "[encoded data removed]",
      "text/plain": [
       "<Figure size 300x200 with 1 Axes>"
      ]
     },
     "metadata": {
      "needs_background": "light"
     },
     "output_type": "display_data"
    }
   ],
   "source": [
    "drawCells(initCells([350, 400]), img=np.zeros([350, 400]), dpi=50)"
   ]
  },
  {
   "cell_type": "code",
   "execution_count": 127,
   "metadata": {},
   "outputs": [
    {
     "data": {
      "image/png": "[encoded data removed]",
      "text/plain": [
       "<Figure size 480x320 with 1 Axes>"
      ]
     },
     "metadata": {
      "needs_background": "light"
     },
     "output_type": "display_data"
    }
   ],
   "source": [
    "mask = cv2.imread('/home/zzp/mask.png', 0)\n",
    "boundpts = getBoundaryPoints(mask)\n",
    "drawBoundaryPoints(boundpts, mask, dpi=80)"
   ]
  },
  {
   "cell_type": "code",
   "execution_count": 128,
   "metadata": {},
   "outputs": [
    {
     "data": {
      "image/png": "[encoded data removed]",
      "text/plain": [
       "<Figure size 600x400 with 1 Axes>"
      ]
     },
     "metadata": {
      "needs_background": "light"
     },
     "output_type": "display_data"
    }
   ],
   "source": [
    "circle, cells = maxInscribedCircle(mask, return_cells=True)\n",
    "drawCircle(circle, mask, cells, dpi=100)"
   ]
  },
  {
   "cell_type": "code",
   "execution_count": null,
   "metadata": {},
   "outputs": [],
   "source": []
  }
 ],
 "metadata": {
  "kernelspec": {
   "display_name": "Python 3",
   "language": "python",
   "name": "python3"
  },
  "language_info": {
   "codemirror_mode": {
    "name": "ipython",
    "version": 3
   },
   "file_extension": ".py",
   "mimetype": "text/x-python",
   "name": "python",
   "nbconvert_exporter": "python",
   "pygments_lexer": "ipython3",
   "version": "3.5.2"
  }
 },
 "nbformat": 4,
 "nbformat_minor": 2
}
